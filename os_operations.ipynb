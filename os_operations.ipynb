{
 "cells": [
  {
   "cell_type": "code",
   "execution_count": 2,
   "id": "e55f519a-bbca-4726-a060-2613faeae82e",
   "metadata": {},
   "outputs": [],
   "source": [
    "import os"
   ]
  },
  {
   "cell_type": "code",
   "execution_count": 3,
   "id": "e6a9fb8c-b650-4b2f-8859-de2d0e6a957b",
   "metadata": {},
   "outputs": [
    {
     "data": {
      "text/plain": [
       "['DirEntry',\n",
       " 'EX_OK',\n",
       " 'F_OK',\n",
       " 'GenericAlias',\n",
       " 'Mapping',\n",
       " 'MutableMapping',\n",
       " 'O_APPEND',\n",
       " 'O_BINARY',\n",
       " 'O_CREAT',\n",
       " 'O_EXCL',\n",
       " 'O_NOINHERIT',\n",
       " 'O_RANDOM',\n",
       " 'O_RDONLY',\n",
       " 'O_RDWR',\n",
       " 'O_SEQUENTIAL',\n",
       " 'O_SHORT_LIVED',\n",
       " 'O_TEMPORARY',\n",
       " 'O_TEXT',\n",
       " 'O_TRUNC',\n",
       " 'O_WRONLY',\n",
       " 'P_DETACH',\n",
       " 'P_NOWAIT',\n",
       " 'P_NOWAITO',\n",
       " 'P_OVERLAY',\n",
       " 'P_WAIT',\n",
       " 'PathLike',\n",
       " 'R_OK',\n",
       " 'SEEK_CUR',\n",
       " 'SEEK_END',\n",
       " 'SEEK_SET',\n",
       " 'TMP_MAX',\n",
       " 'W_OK',\n",
       " 'X_OK',\n",
       " '_AddedDllDirectory',\n",
       " '_Environ',\n",
       " '__all__',\n",
       " '__builtins__',\n",
       " '__doc__',\n",
       " '__file__',\n",
       " '__loader__',\n",
       " '__name__',\n",
       " '__package__',\n",
       " '__spec__',\n",
       " '_check_methods',\n",
       " '_execvpe',\n",
       " '_exists',\n",
       " '_exit',\n",
       " '_fspath',\n",
       " '_get_exports_list',\n",
       " '_walk',\n",
       " '_wrap_close',\n",
       " 'abc',\n",
       " 'abort',\n",
       " 'access',\n",
       " 'add_dll_directory',\n",
       " 'altsep',\n",
       " 'chdir',\n",
       " 'chmod',\n",
       " 'close',\n",
       " 'closerange',\n",
       " 'cpu_count',\n",
       " 'curdir',\n",
       " 'defpath',\n",
       " 'device_encoding',\n",
       " 'devnull',\n",
       " 'dup',\n",
       " 'dup2',\n",
       " 'environ',\n",
       " 'error',\n",
       " 'execl',\n",
       " 'execle',\n",
       " 'execlp',\n",
       " 'execlpe',\n",
       " 'execv',\n",
       " 'execve',\n",
       " 'execvp',\n",
       " 'execvpe',\n",
       " 'extsep',\n",
       " 'fdopen',\n",
       " 'fsdecode',\n",
       " 'fsencode',\n",
       " 'fspath',\n",
       " 'fstat',\n",
       " 'fsync',\n",
       " 'ftruncate',\n",
       " 'get_exec_path',\n",
       " 'get_handle_inheritable',\n",
       " 'get_inheritable',\n",
       " 'get_terminal_size',\n",
       " 'getcwd',\n",
       " 'getcwdb',\n",
       " 'getenv',\n",
       " 'getlogin',\n",
       " 'getpid',\n",
       " 'getppid',\n",
       " 'isatty',\n",
       " 'kill',\n",
       " 'linesep',\n",
       " 'link',\n",
       " 'listdir',\n",
       " 'lseek',\n",
       " 'lstat',\n",
       " 'makedirs',\n",
       " 'mkdir',\n",
       " 'name',\n",
       " 'open',\n",
       " 'pardir',\n",
       " 'path',\n",
       " 'pathsep',\n",
       " 'pipe',\n",
       " 'popen',\n",
       " 'putenv',\n",
       " 'read',\n",
       " 'readlink',\n",
       " 'remove',\n",
       " 'removedirs',\n",
       " 'rename',\n",
       " 'renames',\n",
       " 'replace',\n",
       " 'rmdir',\n",
       " 'scandir',\n",
       " 'sep',\n",
       " 'set_handle_inheritable',\n",
       " 'set_inheritable',\n",
       " 'spawnl',\n",
       " 'spawnle',\n",
       " 'spawnv',\n",
       " 'spawnve',\n",
       " 'st',\n",
       " 'startfile',\n",
       " 'stat',\n",
       " 'stat_result',\n",
       " 'statvfs_result',\n",
       " 'strerror',\n",
       " 'supports_bytes_environ',\n",
       " 'supports_dir_fd',\n",
       " 'supports_effective_ids',\n",
       " 'supports_fd',\n",
       " 'supports_follow_symlinks',\n",
       " 'symlink',\n",
       " 'sys',\n",
       " 'system',\n",
       " 'terminal_size',\n",
       " 'times',\n",
       " 'times_result',\n",
       " 'truncate',\n",
       " 'umask',\n",
       " 'uname_result',\n",
       " 'unlink',\n",
       " 'unsetenv',\n",
       " 'urandom',\n",
       " 'utime',\n",
       " 'waitpid',\n",
       " 'waitstatus_to_exitcode',\n",
       " 'walk',\n",
       " 'write']"
      ]
     },
     "execution_count": 3,
     "metadata": {},
     "output_type": "execute_result"
    }
   ],
   "source": [
    "dir(os)"
   ]
  },
  {
   "cell_type": "code",
   "execution_count": null,
   "id": "f25abac0-fc5e-420e-a00e-6194d72f3901",
   "metadata": {},
   "outputs": [],
   "source": []
  },
  {
   "cell_type": "code",
   "execution_count": null,
   "id": "983d4737-eac3-41cd-8e43-feca164e2c8a",
   "metadata": {},
   "outputs": [],
   "source": []
  },
  {
   "cell_type": "code",
   "execution_count": null,
   "id": "cc447d4a-f643-4e1a-a61d-a577ac3a79eb",
   "metadata": {},
   "outputs": [],
   "source": []
  },
  {
   "cell_type": "code",
   "execution_count": null,
   "id": "65cb9372-54fc-4a0c-ab09-04153a9a1afa",
   "metadata": {},
   "outputs": [],
   "source": []
  },
  {
   "cell_type": "code",
   "execution_count": null,
   "id": "b6198f74-d346-48dd-85c8-a64477ee0524",
   "metadata": {},
   "outputs": [],
   "source": []
  },
  {
   "cell_type": "code",
   "execution_count": null,
   "id": "69f6641d-0414-4a39-a8f8-110924b2c731",
   "metadata": {},
   "outputs": [],
   "source": []
  },
  {
   "cell_type": "code",
   "execution_count": 3,
   "id": "10156b0f-eaac-4bb9-910e-4275cd905e0f",
   "metadata": {},
   "outputs": [
    {
     "name": "stdout",
     "output_type": "stream",
     "text": [
      "joined path: path\\to\\file.txt\n"
     ]
    }
   ],
   "source": [
    "path = os.path.join(\"path\", \"to\", \"file.txt\")\n",
    "print(\"joined path:\", path)"
   ]
  },
  {
   "cell_type": "code",
   "execution_count": 7,
   "id": "6dd9ffe4-4fd1-4004-bed0-66caaad2d10f",
   "metadata": {},
   "outputs": [
    {
     "name": "stdout",
     "output_type": "stream",
     "text": [
      "c:\\Users\\Satyam\\AppData\\Local\\Microsoft\\WindowsApps\n",
      "c:\\Users\\Satyam\\AppData\\Local\\Packages\\PythonSoftwareFoundation.Python.3.11_qbz5n2kfra8p0\\LocalCache\\local-packages\\Python311\\Scripts\n",
      "C:\\WINDOWS\\system32\n",
      "C:\\WINDOWS\n",
      "C:\\WINDOWS\\System32\\Wbem\n",
      "C:\\WINDOWS\\System32\\WindowsPowerShell\\v1.0\\\n",
      "C:\\WINDOWS\\System32\\OpenSSH\\\n",
      "C:\\Program Files\\Git\\cmd\n",
      "C:\\Program Files\\Git\\bin\n",
      "C:\\Users\\Satyam\\AppData\\Local\\Packages\\PythonSoftwareFoundation.Python.3.11_qbz5n2kfra8p0\\LocalCache\\local-packages\\Python311\\Scripts\n",
      "C:\\Program Files\\Git LFS\n",
      "C:\\Program Files\\nodejs\\\n",
      "C:\\ProgramData\\chocolatey\\bin\n",
      "C:\\Program Files\\PuTTY\\\n",
      "C:\\Users\\Satyam\\AppData\\Local\\Microsoft\\WindowsApps\n",
      "C:\\Users\\Satyam\\AppData\\Local\\Programs\\Microsoft VS Code\\bin\n",
      "C:\\Users\\Satyam\\AppData\\Roaming\\npm\n",
      "\n",
      "C:\\WINDOWS\\system32\n",
      "C:\\WINDOWS\n",
      "C:\\WINDOWS\\System32\\Wbem\n",
      "C:\\WINDOWS\\System32\\WindowsPowerShell\\v1.0\\\n",
      "C:\\WINDOWS\\System32\\OpenSSH\\\n",
      "C:\\Program Files\\Git\\cmd\n",
      "C:\\Program Files\\Git\\bin\n",
      "C:\\Users\\Satyam\\AppData\\Local\\Packages\\PythonSoftwareFoundation.Python.3.11_qbz5n2kfra8p0\\LocalCache\\local-packages\\Python311\\Scripts\n",
      "C:\\Program Files\\Git LFS\n",
      "C:\\Program Files\\nodejs\\\n",
      "C:\\ProgramData\\chocolatey\\bin\n",
      "C:\\Program Files\\PuTTY\\\n",
      "C:\\Users\\Satyam\\AppData\\Local\\Microsoft\\WindowsApps\n",
      "C:\\Users\\Satyam\\AppData\\Local\\Programs\\Microsoft VS Code\\bin\n",
      "C:\\Users\\Satyam\\AppData\\Roaming\\npm\n",
      "\n"
     ]
    }
   ],
   "source": [
    "print(*(os.getenv(\"PATH\").split(';')), sep='\\n')"
   ]
  },
  {
   "cell_type": "code",
   "execution_count": 8,
   "id": "3548aa5f-245f-425e-8689-8c2d2b4b6f6d",
   "metadata": {},
   "outputs": [],
   "source": [
    "os.environ[\"CUSTOM_VAR\"] = \"custom_value\""
   ]
  },
  {
   "cell_type": "code",
   "execution_count": 9,
   "id": "c20d2a4a",
   "metadata": {},
   "outputs": [
    {
     "name": "stdout",
     "output_type": "stream",
     "text": [
      "True\n"
     ]
    }
   ],
   "source": [
    "print(\"CUSTOM_VAR\" in os.environ)"
   ]
  },
  {
   "cell_type": "code",
   "execution_count": 10,
   "id": "f9be8348",
   "metadata": {},
   "outputs": [
    {
     "data": {
      "text/plain": [
       "'custom_value'"
      ]
     },
     "execution_count": 10,
     "metadata": {},
     "output_type": "execute_result"
    }
   ],
   "source": [
    "os.environ.pop(\"CUSTOM_VAR\")"
   ]
  },
  {
   "cell_type": "code",
   "execution_count": 11,
   "id": "7dbd243a",
   "metadata": {},
   "outputs": [
    {
     "data": {
      "text/plain": [
       "1"
      ]
     },
     "execution_count": 11,
     "metadata": {},
     "output_type": "execute_result"
    }
   ],
   "source": [
    "os.system(\"ls -l\")"
   ]
  },
  {
   "cell_type": "code",
   "execution_count": 13,
   "id": "53cdcf8a",
   "metadata": {},
   "outputs": [
    {
     "name": "stdout",
     "output_type": "stream",
     "text": [
      "<built-in function getcwd>\n"
     ]
    }
   ],
   "source": [
    "print(os.getcwd)"
   ]
  },
  {
   "cell_type": "code",
   "execution_count": 18,
   "id": "97e3dc18",
   "metadata": {},
   "outputs": [
    {
     "name": "stdout",
     "output_type": "stream",
     "text": [
      "No Python documentation found for 'd:\\\\Jio_Institute\\\\MLOps'.\n",
      "Use help() to get the interactive help utility.\n",
      "Use help(str) for help on the str class.\n",
      "\n"
     ]
    }
   ],
   "source": [
    "help(os.getcwd())"
   ]
  },
  {
   "cell_type": "code",
   "execution_count": null,
   "id": "9a9f7d2e",
   "metadata": {},
   "outputs": [],
   "source": []
  }
 ],
 "metadata": {
  "kernelspec": {
   "display_name": "Python 3 (ipykernel)",
   "language": "python",
   "name": "python3"
  },
  "language_info": {
   "codemirror_mode": {
    "name": "ipython",
    "version": 3
   },
   "file_extension": ".py",
   "mimetype": "text/x-python",
   "name": "python",
   "nbconvert_exporter": "python",
   "pygments_lexer": "ipython3",
   "version": "3.11.9"
  }
 },
 "nbformat": 4,
 "nbformat_minor": 5
}
